{
 "cells": [
  {
   "cell_type": "code",
   "execution_count": 1,
   "metadata": {},
   "outputs": [],
   "source": [
    "#Рост взрослого населения города X имеет нормальное распределение.\n",
    "#Причем, средний рост равен 174 см, а среднее квадратичное отклонение равно 8 см.\n",
    "#Какова вероятность того, что случайным образом выбранный взрослый человек имеет рост:\n",
    "#а). больше 182 см\n",
    "#б). больше 190 см\n",
    "#в). от 166 см до 190 см\n",
    "#г). от 166 см до 182 см\n",
    "#д). от 158 см до 190 см\n",
    "#е). не выше 150 см или не ниже 190 см\n",
    "#ё). не выше 150 см или не ниже 198 см\n",
    "#ж). ниже 166 см."
   ]
  },
  {
   "cell_type": "code",
   "execution_count": 2,
   "metadata": {},
   "outputs": [
    {
     "name": "stdout",
     "output_type": "stream",
     "text": [
      "1.0\n"
     ]
    }
   ],
   "source": [
    "#а). больше 182 см\n",
    "Z = (182 - 174)/8\n",
    "print(Z)\n",
    "#Z = 1.0 Z_value_rigth_side = 0.15866\n",
    "P_Z = 0.15866\n",
    "P_Z"
   ]
  },
  {
   "cell_type": "code",
   "execution_count": 4,
   "metadata": {},
   "outputs": [
    {
     "name": "stdout",
     "output_type": "stream",
     "text": [
      "2.0\n"
     ]
    },
    {
     "data": {
      "text/plain": [
       "0.02275"
      ]
     },
     "execution_count": 4,
     "metadata": {},
     "output_type": "execute_result"
    }
   ],
   "source": [
    "#б). больше 190 см\n",
    "Z = (190 - 174)/8\n",
    "print(Z)\n",
    "#Z = 2.0 Z_value_rigth_side = 0.02275\n",
    "P_Z = 0.02275\n",
    "P_Z"
   ]
  },
  {
   "cell_type": "code",
   "execution_count": 8,
   "metadata": {},
   "outputs": [
    {
     "name": "stdout",
     "output_type": "stream",
     "text": [
      "-1.0\n",
      "0.8185\n"
     ]
    }
   ],
   "source": [
    "#в). от 166 см до 190 см\n",
    "Z1 = (166 - 174)/8\n",
    "Z2 = (190 - 174)/8\n",
    "print(Z1)\n",
    "P_Z1 = 0.1587\n",
    "P_Z2 = 0.9772\n",
    "P_Z = (P_Z2 - P_Z1)\n",
    "print(P_Z)"
   ]
  },
  {
   "cell_type": "code",
   "execution_count": 9,
   "metadata": {},
   "outputs": [
    {
     "name": "stdout",
     "output_type": "stream",
     "text": [
      "0.6826000000000001\n"
     ]
    }
   ],
   "source": [
    "#г). от 166 см до 182 см\n",
    "Z1 = (166 - 174)/8\n",
    "Z2 = (182 - 174)/8\n",
    "P_Z1 = 0.1587\n",
    "P_Z2 = 0.8413\n",
    "P_Z = (P_Z2 - P_Z1)\n",
    "print(P_Z)"
   ]
  },
  {
   "cell_type": "code",
   "execution_count": 11,
   "metadata": {},
   "outputs": [
    {
     "name": "stdout",
     "output_type": "stream",
     "text": [
      "-2.0\n",
      "0.9543999999999999\n"
     ]
    }
   ],
   "source": [
    "#д). от 158 см до 190 см\n",
    "Z1 = (158 - 174)/8\n",
    "Z2 = (190 - 174)/8\n",
    "print(Z1)\n",
    "P_Z1 = 0.0228\n",
    "P_Z2 = 0.9772\n",
    "P_Z = (P_Z2 - P_Z1)\n",
    "print(P_Z)"
   ]
  },
  {
   "cell_type": "code",
   "execution_count": 13,
   "metadata": {},
   "outputs": [
    {
     "name": "stdout",
     "output_type": "stream",
     "text": [
      "-3.0\n",
      "0.02405\n"
     ]
    }
   ],
   "source": [
    "#е). не выше 150 см или не ниже 190 см\n",
    "Z1 = (150 - 174)/8\n",
    "Z2 = (190 - 174)/8\n",
    "print(Z1)\n",
    "P_Z1 = 0.0013\n",
    "P_Z2 = 0.02275\n",
    "P_Z = (P_Z2 + P_Z1)\n",
    "print(P_Z)"
   ]
  },
  {
   "cell_type": "code",
   "execution_count": 15,
   "metadata": {},
   "outputs": [
    {
     "name": "stdout",
     "output_type": "stream",
     "text": [
      "3.0\n",
      "0.00265\n"
     ]
    }
   ],
   "source": [
    "#ё). не выше 150 см или не ниже 198 см\n",
    "Z1 = (150 - 174)/8\n",
    "Z2 = (198 - 174)/8\n",
    "print(Z2)\n",
    "P_Z1 = 0.0013\n",
    "P_Z2 = 0.00135\n",
    "P_Z = (P_Z2 + P_Z1)\n",
    "print(P_Z)"
   ]
  },
  {
   "cell_type": "code",
   "execution_count": 16,
   "metadata": {},
   "outputs": [
    {
     "name": "stdout",
     "output_type": "stream",
     "text": [
      "0.1587\n"
     ]
    }
   ],
   "source": [
    "#ж). ниже 166 см.\n",
    "Z = (166 - 174)/8\n",
    "P_Z = 0.1587\n",
    "print(P_Z)"
   ]
  },
  {
   "cell_type": "code",
   "execution_count": null,
   "metadata": {},
   "outputs": [],
   "source": []
  }
 ],
 "metadata": {
  "kernelspec": {
   "display_name": "Python 3",
   "language": "python",
   "name": "python3"
  },
  "language_info": {
   "codemirror_mode": {
    "name": "ipython",
    "version": 3
   },
   "file_extension": ".py",
   "mimetype": "text/x-python",
   "name": "python",
   "nbconvert_exporter": "python",
   "pygments_lexer": "ipython3",
   "version": "3.8.5"
  }
 },
 "nbformat": 4,
 "nbformat_minor": 4
}
