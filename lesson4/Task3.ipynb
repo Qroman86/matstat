{
 "cells": [
  {
   "cell_type": "code",
   "execution_count": null,
   "metadata": {},
   "outputs": [],
   "source": [
    "#Непрерывная случайная величина X распределена нормально и задана плотностью распределения\n",
    "#f(x) = (1 / (4 * sqrt(2*pi))) * (exp(-((x+2)**2) / 32))\n",
    "#Найдите:\n",
    "#а). M(X)\n",
    "#б). D(X)\n",
    "#в). std(X) (среднее квадратичное отклонение)\n",
    "\n",
    "#а). M(X)\n",
    "M_X = -2\n",
    "\n",
    "#б). D(X)\n",
    "D_X = 16\n",
    "\n",
    "#в). std(X)\n",
    "std_x = 4"
   ]
  }
 ],
 "metadata": {
  "kernelspec": {
   "display_name": "Python 3",
   "language": "python",
   "name": "python3"
  },
  "language_info": {
   "codemirror_mode": {
    "name": "ipython",
    "version": 3
   },
   "file_extension": ".py",
   "mimetype": "text/x-python",
   "name": "python",
   "nbconvert_exporter": "python",
   "pygments_lexer": "ipython3",
   "version": "3.8.5"
  }
 },
 "nbformat": 4,
 "nbformat_minor": 4
}
