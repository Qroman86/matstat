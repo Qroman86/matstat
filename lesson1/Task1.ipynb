{
 "cells": [
  {
   "cell_type": "code",
   "execution_count": 1,
   "metadata": {},
   "outputs": [],
   "source": [
    "from math import factorial"
   ]
  },
  {
   "cell_type": "code",
   "execution_count": 2,
   "metadata": {},
   "outputs": [],
   "source": [
    "def combinations(n, k):\n",
    "    return int(factorial(n) / (factorial(k) * factorial (n - k)))\n"
   ]
  },
  {
   "cell_type": "code",
   "execution_count": 3,
   "metadata": {},
   "outputs": [
    {
     "name": "stdout",
     "output_type": "stream",
     "text": [
      "270725\n"
     ]
    }
   ],
   "source": [
    "# число всех исходов из 52 карт по четыре карты равно C 4 52\n",
    "total = combinations(52, 4)\n",
    "print(total)"
   ]
  },
  {
   "cell_type": "code",
   "execution_count": 4,
   "metadata": {},
   "outputs": [
    {
     "name": "stdout",
     "output_type": "stream",
     "text": [
      "715\n"
     ]
    }
   ],
   "source": [
    "#a) Найти вероятность того, что все карты – крести.\n",
    "# количество карт крести - 13 штук. Соответственно\n",
    "c_kresti = combinations(13, 4)\n",
    "print(c_kresti)"
   ]
  },
  {
   "cell_type": "code",
   "execution_count": 5,
   "metadata": {},
   "outputs": [
    {
     "name": "stdout",
     "output_type": "stream",
     "text": [
      "0.0026410564225690276\n"
     ]
    }
   ],
   "source": [
    "#искомая вероятность равна:\n",
    "kresti_prob = c_kresti / total\n",
    "print(kresti_prob)"
   ]
  },
  {
   "cell_type": "code",
   "execution_count": 6,
   "metadata": {},
   "outputs": [
    {
     "name": "stdout",
     "output_type": "stream",
     "text": [
      "69184 6768 192 1\n"
     ]
    }
   ],
   "source": [
    "#б) Найти вероятность, что среди 4-х карт окажется хотя бы один туз.\n",
    "c1 = combinations (4,1) * combinations(48,3)\n",
    "c2 = combinations (4,2) * combinations(48,2)\n",
    "c3 = combinations (4,3) * combinations(48,1)\n",
    "c4 = combinations (4,4) * combinations(48,0)\n",
    "print(str(c1)+ ' ' + str(c2) + ' '+ str(c3) + ' '+ str(c4))"
   ]
  },
  {
   "cell_type": "code",
   "execution_count": 7,
   "metadata": {},
   "outputs": [
    {
     "name": "stdout",
     "output_type": "stream",
     "text": [
      "76145\n",
      "0.2812632745405855\n"
     ]
    }
   ],
   "source": [
    "c = c1 + c2 + c3 + c4\n",
    "print(c)\n",
    "tuz_prob = c / total\n",
    "print(tuz_prob)"
   ]
  },
  {
   "cell_type": "code",
   "execution_count": null,
   "metadata": {},
   "outputs": [],
   "source": []
  }
 ],
 "metadata": {
  "kernelspec": {
   "display_name": "Python 3",
   "language": "python",
   "name": "python3"
  },
  "language_info": {
   "codemirror_mode": {
    "name": "ipython",
    "version": 3
   },
   "file_extension": ".py",
   "mimetype": "text/x-python",
   "name": "python",
   "nbconvert_exporter": "python",
   "pygments_lexer": "ipython3",
   "version": "3.8.5"
  }
 },
 "nbformat": 4,
 "nbformat_minor": 4
}
