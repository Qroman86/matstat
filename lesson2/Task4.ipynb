{
 "cells": [
  {
   "cell_type": "code",
   "execution_count": 1,
   "metadata": {},
   "outputs": [],
   "source": [
    "#В первом ящике находится 10 мячей, из которых 7 - белые. Во втором ящике - 11 мячей, из которых 9 белых. \n",
    "#Из каждого ящика вытаскивают случайным образом по два мяча. \n",
    "#a)Какова вероятность того, что все мячи белые? \n",
    "#б)Какова вероятность того, что ровно два мяча белые? \n",
    "#в)Какова вероятность того, что хотя бы один мяч белый?"
   ]
  },
  {
   "cell_type": "code",
   "execution_count": 4,
   "metadata": {},
   "outputs": [
    {
     "name": "stdout",
     "output_type": "stream",
     "text": [
      "prob_all_white:\n"
     ]
    },
    {
     "data": {
      "text/plain": [
       "0.3054545454545454"
      ]
     },
     "execution_count": 4,
     "metadata": {},
     "output_type": "execute_result"
    }
   ],
   "source": [
    "#a)Какова вероятность того, что все мячи белые? \n",
    "prob_all_white = ((7)/ 10)* ((7 - 1)/ (10 - 1)) * ((9)/ 11)*((9-1)/(11 -1))\n",
    "print('prob_all_white:')\n",
    "print(prob_all_white)"
   ]
  },
  {
   "cell_type": "code",
   "execution_count": 14,
   "metadata": {},
   "outputs": [
    {
     "name": "stdout",
     "output_type": "stream",
     "text": [
      "p1 0.008484848484848484\n",
      "p2 0.04363636363636364\n",
      "p3 0.05090909090909091\n",
      "prob_two_white: 0.10303030303030303\n"
     ]
    }
   ],
   "source": [
    "#б)Какова вероятность того, что ровно два мяча белые?\n",
    "#оба из первого ящика\n",
    "p1 = ((7)/ 10)* ((7 - 1)/ (10 - 1)) * ((11- 9)/ 11)*((11 - 1 - 9)/(11 -1))\n",
    "print('p1 '+str(p1))\n",
    "#оба из второго ящика\n",
    "p2 = ((10  - 7)/ 10)* ((10 - 7 - 1)/ (10 - 1)) * ((9)/ 11)*((9 - 1)/(11 -1))\n",
    "print('p2 '+str(p2))\n",
    "# один из первого ящика один из второго\n",
    "p3 = (((7)/ 10) * ((10 - 7 - 1)/ (10 - 1))*2) *(((9)/ 11)*((11 - 1 - 9)/(11 -1))*2)\n",
    "print('p3 '+str(p3))\n",
    "prob_two_white = p1+p2+p3\n",
    "print('prob_two_white: '+str(prob_two_white))"
   ]
  },
  {
   "cell_type": "code",
   "execution_count": 3,
   "metadata": {},
   "outputs": [
    {
     "name": "stdout",
     "output_type": "stream",
     "text": [
      "prob_all_black:\n",
      "0.0012121212121212121\n",
      "prob_atleastt_one_white:\n",
      "0.9987878787878788\n"
     ]
    }
   ],
   "source": [
    "#в)Какова вероятность того, что хотя бы один мяч белый? \n",
    "prob_all_black = ((10 - 7)/ 10)* ((10 - 1 - 7)/ (10 - 1)) * ((11 - 9)/ 11)*((11 - 1 - 9)/(11 -1))\n",
    "print('prob_all_black:')\n",
    "print(prob_all_black)\n",
    "prob_atleastt_one_white = 1 - prob_all_black\n",
    "print('prob_atleastt_one_white:')\n",
    "print(prob_atleastt_one_white)"
   ]
  },
  {
   "cell_type": "code",
   "execution_count": null,
   "metadata": {},
   "outputs": [],
   "source": []
  }
 ],
 "metadata": {
  "kernelspec": {
   "display_name": "Python 3",
   "language": "python",
   "name": "python3"
  },
  "language_info": {
   "codemirror_mode": {
    "name": "ipython",
    "version": 3
   },
   "file_extension": ".py",
   "mimetype": "text/x-python",
   "name": "python",
   "nbconvert_exporter": "python",
   "pygments_lexer": "ipython3",
   "version": "3.8.5"
  }
 },
 "nbformat": 4,
 "nbformat_minor": 4
}
