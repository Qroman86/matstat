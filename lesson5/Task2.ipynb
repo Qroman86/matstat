{
 "cells": [
  {
   "cell_type": "code",
   "execution_count": 9,
   "metadata": {},
   "outputs": [
    {
     "name": "stdout",
     "output_type": "stream",
     "text": [
      "6.589999999999999\n"
     ]
    }
   ],
   "source": [
    "import math\n",
    "#2) В результате 10 независимых измерений некоторой величины X, выполненных с одинаковой точностью,\n",
    "#получены опытные данные:\u000b",
    "6.9, 6.1, 6.2, 6.8, 7.5, 6.3, 6.4, 6.9, 6.7, 6.1\n",
    "#Предполагая, что результаты измерений подчинены нормальному закону распределения вероятностей,\n",
    "#оценить истинное значение величины X при помощи доверительного интервала, покрывающего это\u000b",
    "значение \n",
    "#с доверительной вероятностью 0,95.\n",
    "\n",
    "values = [6.9, 6.1, 6.2, 6.8, 7.5, 6.3, 6.4, 6.9, 6.7, 6.1]\n",
    "sum_value = 0\n",
    "for value in values:\n",
    "    sum_value += value\n",
    "#выборочное среднее\n",
    "x_mid = sum_value / len(values)\n",
    "print(x_mid)"
   ]
  },
  {
   "cell_type": "code",
   "execution_count": 10,
   "metadata": {},
   "outputs": [
    {
     "name": "stdout",
     "output_type": "stream",
     "text": [
      "0.2032222222222223\n",
      "0.4508017549014448\n"
     ]
    }
   ],
   "source": [
    "#несмещенная выборочная дисперсия\n",
    "disp = 0\n",
    "for value in values:\n",
    "    disp += (value - x_mid)**2\n",
    "disp /= len(values) - 1\n",
    "print (disp)\n",
    "sigma = math.sqrt(disp)\n",
    "print (sigma)"
   ]
  },
  {
   "cell_type": "code",
   "execution_count": 11,
   "metadata": {},
   "outputs": [
    {
     "name": "stdout",
     "output_type": "stream",
     "text": [
      "6.310590177536849\n",
      "6.869409822463149\n"
     ]
    }
   ],
   "source": [
    "#для alpha/2 = 0.025 берем для 0.975\n",
    "Z = 1.96\n",
    "inter_max = x_mid + (Z * sigma / math.sqrt(len(values)))\n",
    "inter_min = x_mid - (Z * sigma / math.sqrt(len(values)))\n",
    "print(inter_min)\n",
    "print(inter_max)"
   ]
  },
  {
   "cell_type": "code",
   "execution_count": null,
   "metadata": {},
   "outputs": [],
   "source": []
  }
 ],
 "metadata": {
  "kernelspec": {
   "display_name": "Python 3",
   "language": "python",
   "name": "python3"
  },
  "language_info": {
   "codemirror_mode": {
    "name": "ipython",
    "version": 3
   },
   "file_extension": ".py",
   "mimetype": "text/x-python",
   "name": "python",
   "nbconvert_exporter": "python",
   "pygments_lexer": "ipython3",
   "version": "3.8.5"
  }
 },
 "nbformat": 4,
 "nbformat_minor": 4
}
