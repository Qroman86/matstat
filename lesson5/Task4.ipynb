{
 "cells": [
  {
   "cell_type": "code",
   "execution_count": 5,
   "metadata": {},
   "outputs": [],
   "source": [
    "import math\n",
    "#4) Продавец утверждает, что средний вес пачки печенья составляет 200 г. Из партии извлечена выборка из 10 пачек.\n",
    "#Вес каждой пачки составляет:\n",
    "#202, 203, 199, 197, 195, 201, 200, 204, 194, 190. Известно,\n",
    "#что их веса распределены нормально.\n",
    "#Верно ли утверждение продавца, если учитывать, что доверительная вероятность равна 99%?\n",
    "alpha = 1 - 0.99\n",
    "#Поскольку средний вес может отклоняться как в меньшую, так и в большую сторону, то берем z для alpha|2\n",
    "Z = 2.325\n",
    "Z_mins = -2.325\n",
    "m_0 = 200\n",
    "\n",
    "\n",
    "values = [202, 203, 199, 197, 195, 201, 200, 204, 194, 190]\n",
    "n = len(values)"
   ]
  },
  {
   "cell_type": "code",
   "execution_count": 6,
   "metadata": {},
   "outputs": [
    {
     "name": "stdout",
     "output_type": "stream",
     "text": [
      "198.5\n"
     ]
    }
   ],
   "source": [
    "\n",
    "sum_value = 0\n",
    "for value in values:\n",
    "    sum_value += value\n",
    "#выборочное среднее\n",
    "x_mid = sum_value / len(values)\n",
    "print(x_mid)"
   ]
  },
  {
   "cell_type": "code",
   "execution_count": 7,
   "metadata": {},
   "outputs": [
    {
     "name": "stdout",
     "output_type": "stream",
     "text": [
      "19.833333333333332\n",
      "4.453463071962462\n"
     ]
    }
   ],
   "source": [
    "#несмещенная выборочная дисперсия\n",
    "disp = 0\n",
    "for value in values:\n",
    "    disp += (value - x_mid)**2\n",
    "disp /= len(values) - 1\n",
    "print (disp)\n",
    "sigma = math.sqrt(disp)\n",
    "print (sigma)"
   ]
  },
  {
   "cell_type": "code",
   "execution_count": 8,
   "metadata": {},
   "outputs": [
    {
     "data": {
      "text/plain": [
       "-1.0651074037450896"
      ]
     },
     "execution_count": 8,
     "metadata": {},
     "output_type": "execute_result"
    }
   ],
   "source": [
    "z_n = (x_mid - m_0)/(sigma/math.sqrt(n))\n",
    "z_n"
   ]
  },
  {
   "cell_type": "code",
   "execution_count": null,
   "metadata": {},
   "outputs": [],
   "source": [
    "#Вывод - нулевая гипотеза верна, утверждение верно поскольку -1.0651074037450896 лежит в диапазоне (-2.32,2.32)"
   ]
  }
 ],
 "metadata": {
  "kernelspec": {
   "display_name": "Python 3",
   "language": "python",
   "name": "python3"
  },
  "language_info": {
   "codemirror_mode": {
    "name": "ipython",
    "version": 3
   },
   "file_extension": ".py",
   "mimetype": "text/x-python",
   "name": "python",
   "nbconvert_exporter": "python",
   "pygments_lexer": "ipython3",
   "version": "3.8.5"
  }
 },
 "nbformat": 4,
 "nbformat_minor": 4
}
