{
 "cells": [
  {
   "cell_type": "code",
   "execution_count": 1,
   "metadata": {},
   "outputs": [
    {
     "data": {
      "text/plain": [
       "0.005000000000000001"
      ]
     },
     "execution_count": 1,
     "metadata": {},
     "output_type": "execute_result"
    }
   ],
   "source": [
    "#Устройство состоит из трех деталей. Для первой детали вероятность выйти из строя в первый месяц равна 0.1, \n",
    "#для второй - 0.2, для третьей - 0.25. \n",
    "#Какова вероятность того, что в первый месяц выйдут из строя: а). все детали б). только две детали \n",
    "#в). хотя бы одна деталь г). от одной до двух деталей?\n",
    "\n",
    "p1 = 0.1\n",
    "p2 = 0.2\n",
    "p3 = 0.25\n",
    "#вероятность что выйдут из строя все детали\n",
    "prob_all = p1*p2*p3\n",
    "prob_all"
   ]
  },
  {
   "cell_type": "code",
   "execution_count": 2,
   "metadata": {},
   "outputs": [
    {
     "data": {
      "text/plain": [
       "0.08000000000000002"
      ]
     },
     "execution_count": 2,
     "metadata": {},
     "output_type": "execute_result"
    }
   ],
   "source": [
    "#вероятность что выйдут только две детали\n",
    "prob_two = p1*p2*(1-p3)+(1-p1)*p2*p3+p1*p3*(1-p2)\n",
    "prob_two"
   ]
  },
  {
   "cell_type": "code",
   "execution_count": 3,
   "metadata": {},
   "outputs": [
    {
     "data": {
      "text/plain": [
       "0.45999999999999996"
      ]
     },
     "execution_count": 3,
     "metadata": {},
     "output_type": "execute_result"
    }
   ],
   "source": [
    "#вероятность что выйдет из строя хотя бы одна деталь\n",
    "prob_at_least_one = 1 - (1-p1)*(1-p2)*(1-p3)\n",
    "prob_at_least_one"
   ]
  },
  {
   "cell_type": "code",
   "execution_count": 4,
   "metadata": {},
   "outputs": [
    {
     "data": {
      "text/plain": [
       "0.45499999999999996"
      ]
     },
     "execution_count": 4,
     "metadata": {},
     "output_type": "execute_result"
    }
   ],
   "source": [
    "#вероятность что выйдет от одной до двух деталей\n",
    "prob_from_one_to_two = prob_at_least_one - prob_all\n",
    "prob_from_one_to_two"
   ]
  },
  {
   "cell_type": "code",
   "execution_count": null,
   "metadata": {},
   "outputs": [],
   "source": []
  }
 ],
 "metadata": {
  "kernelspec": {
   "display_name": "Python 3",
   "language": "python",
   "name": "python3"
  },
  "language_info": {
   "codemirror_mode": {
    "name": "ipython",
    "version": 3
   },
   "file_extension": ".py",
   "mimetype": "text/x-python",
   "name": "python",
   "nbconvert_exporter": "python",
   "pygments_lexer": "ipython3",
   "version": "3.8.5"
  }
 },
 "nbformat": 4,
 "nbformat_minor": 4
}
